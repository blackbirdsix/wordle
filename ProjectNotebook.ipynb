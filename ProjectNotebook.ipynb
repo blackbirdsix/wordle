{
 "cells": [
  {
   "cell_type": "markdown",
   "id": "b2ee09d1",
   "metadata": {},
   "source": [
    "### Wordle Final Project -- Jacob Takesuye\n",
    "My final project was the recreation of the NYT's Wordle. As you likely already know, wordle is a game in which you try to guess the correct 5 letter word through guesses and clues you learn about which letters are in the word. You have 6 attempts. If your guessed 5 letter word has a letter in the same position as the correct word, that letter in that position will turn green. If a letter in your guessed word is in the correct word but not in the correct spot, it will turn yellow. If a letter in your guessed word isn't in the correct word, it will turn gray. As you guess, a keyboard will be displayed whose letters will change colors in respect to the above criteria."
   ]
  },
  {
   "cell_type": "markdown",
   "id": "ab8ae913",
   "metadata": {},
   "source": [
    "__Wordle( )__ first needs to be imported from the file __wordle.py__. the only code in it that can be imported is the class __Wordle( )__ as seen below. \n",
    "_Note that mock_new_game is a function from test_wordle that allows me to run simulated inputs and create a mock game for demonstration and testing purposes._"
   ]
  },
  {
   "cell_type": "code",
   "execution_count": 4,
   "id": "376f9b0b",
   "metadata": {},
   "outputs": [],
   "source": [
    "from wordle import Wordle\n",
    "from unittest.mock import Mock, patch"
   ]
  },
  {
   "cell_type": "markdown",
   "id": "c590b911",
   "metadata": {},
   "source": [
    "\n"
   ]
  },
  {
   "cell_type": "markdown",
   "id": "0707011c",
   "metadata": {},
   "source": [
    "While I could import the below function from my __test_wordle.py__, it would not store any information in this notebook like I need it to for demonstrative purposes for the later _summary( )_ class method. So ignore this code."
   ]
  },
  {
   "cell_type": "code",
   "execution_count": 12,
   "id": "94ed4d55",
   "metadata": {},
   "outputs": [],
   "source": [
    "game = Wordle()\n",
    "def mock_new_game(correct, a, b=None, c=None, d=None, e=None, f=None, g=None):\n",
    "    \"\"\"Used to simulate a user continually inputting answers. Used for tests.\n",
    "    \n",
    "       Parameters:\n",
    "       -----------\n",
    "       correct: str\n",
    "           - the word that will be used as the correct word in the simulated game\n",
    "       a: str\n",
    "           - a five letter word to input\n",
    "       b-g: str\n",
    "           - all optional, same criteria as a\"\"\"\n",
    "    # I learned how to mock multiple inputs from this forum:\n",
    "    # https://stackoverflow.com/questions/66222805/mock-patch-multiple-user-inputs-in-sequence\n",
    "\n",
    "    input_mock_change = Mock()  # First mock for changing correct word\n",
    "    input_mock_change.return_value = 'change'\n",
    "\n",
    "    input_mock_correct = Mock()  # Second mock for setting correct word\n",
    "    input_mock_correct.return_value = correct\n",
    "\n",
    "    input_mock_a = Mock()  # Third mock for first input\n",
    "    input_mock_a.return_value = a\n",
    "\n",
    "    input_mock_b = Mock()  # Fourth mock for second input\n",
    "    input_mock_b.return_value = b\n",
    "\n",
    "    input_mock_c = Mock()  # Fifth mock for third input\n",
    "    input_mock_c.return_value = c\n",
    "\n",
    "    input_mock_d = Mock()  # Sixth mock for fourth input\n",
    "    input_mock_d.return_value = d\n",
    "\n",
    "    input_mock_e = Mock()  # seventh mock for fifth input\n",
    "    input_mock_e.return_value = e\n",
    "\n",
    "    input_mock_f = Mock()  # eighth mock for sixth input\n",
    "    input_mock_f.return_value = f\n",
    "    \n",
    "    input_mock_g = Mock()  # ninth mock for seventh input\n",
    "    input_mock_g.return_value = g\n",
    "\n",
    "    input_mock = Mock()    # Combine the mocks in another mock to patch the input call.\n",
    "    input_mock.side_effect = [input_mock_change.return_value, input_mock_correct.return_value,\n",
    "                              input_mock_a.return_value, input_mock_b.return_value,\n",
    "                              input_mock_c.return_value, input_mock_d.return_value,\n",
    "                              input_mock_e.return_value, input_mock_f.return_value,\n",
    "                             input_mock_g.return_value]\n",
    "    with patch('builtins.input', input_mock) as mock_input:\n",
    "        game.new_game()\n",
    "    return game"
   ]
  },
  {
   "cell_type": "markdown",
   "id": "e54efe36",
   "metadata": {},
   "source": [
    "To begin playing, a new class of __Wordle( )__ must be instantiated. Using the new class instance, you can use the class method _new_game( )_ in order to begin the wordle.\n",
    "\n",
    "    game = Wordle()\n",
    "    game.new_game()\n",
    "\n",
    "A demo is shown below that gives an example of a game."
   ]
  },
  {
   "cell_type": "code",
   "execution_count": 13,
   "id": "a57c3437",
   "metadata": {
    "scrolled": false
   },
   "outputs": [
    {
     "name": "stdout",
     "output_type": "stream",
     "text": [
      "T R E \u001b[33mA\u001b[30m T\n",
      "M \u001b[32mA\u001b[30m \u001b[32mN\u001b[30m I C\n",
      "D \u001b[32mA\u001b[30m \u001b[32mN\u001b[30m D \u001b[32mY\u001b[30m\n",
      "H \u001b[32mA\u001b[30m \u001b[32mN\u001b[30m \u001b[32mK\u001b[30m \u001b[32mY\u001b[30m\n",
      "\u001b[32mL\u001b[30m \u001b[32mA\u001b[30m \u001b[32mN\u001b[30m \u001b[32mK\u001b[30m \u001b[32mY\u001b[30m\n",
      ". . . . .\n",
      "\n",
      "Q W \u001b[37mE\u001b[30m \u001b[37mR\u001b[30m \u001b[37m\u001b[37mT\u001b[30m\u001b[30m \u001b[32m\u001b[32m\u001b[32mY\u001b[30m\u001b[30m\u001b[30m U \u001b[37mI\u001b[30m O P \n",
      " \u001b[33m\u001b[32m\u001b[32m\u001b[32m\u001b[32mA\u001b[30m\u001b[30m\u001b[30m\u001b[30m\u001b[30m S \u001b[37m\u001b[37mD\u001b[30m\u001b[30m F G \u001b[37mH\u001b[30m J \u001b[32m\u001b[32mK\u001b[30m\u001b[30m \u001b[32mL\u001b[30m \n",
      "  Z X \u001b[37mC\u001b[30m V B \u001b[32m\u001b[32m\u001b[32m\u001b[32mN\u001b[30m\u001b[30m\u001b[30m\u001b[30m \u001b[37mM\u001b[30m\n",
      "You solved the Wordle in 5 tries!\n"
     ]
    },
    {
     "data": {
      "text/plain": [
       "<wordle.Wordle at 0x7fa06a8aed60>"
      ]
     },
     "execution_count": 13,
     "metadata": {},
     "output_type": "execute_result"
    }
   ],
   "source": [
    "mock_new_game('lanky', 'treat', 'manic', 'dandy', 'hanky', 'lanky')"
   ]
  },
  {
   "cell_type": "markdown",
   "id": "f4f65b25",
   "metadata": {},
   "source": [
    "I ran into a few major difficulties when working with my code. Namely: printing in color, misoccurences of multiple letters lighting up, and debugging."
   ]
  },
  {
   "cell_type": "markdown",
   "id": "7f131e40",
   "metadata": {},
   "source": [
    "1. Printing in color was the first roadblock I ran into, as I didn't know if it was possible. Unfortunately for me, I ran into another problem soon after, which was that it turned _everything_ on the grid to the color, not just a specific letter. It took some online browsing but I eventually found a solution to this problem."
   ]
  },
  {
   "cell_type": "markdown",
   "id": "4b0e5706",
   "metadata": {},
   "source": [
    "2. Debugging was another issue I ran into, as my code is not only long, but has a lot of working parts and variables that interact with each other. Figuring out where and why certain parts weren't working as they should took a lot of time."
   ]
  },
  {
   "cell_type": "markdown",
   "id": "2afde643",
   "metadata": {},
   "source": [
    "3. By far, the biggest and most difficult problem I ran into was the case where a word contained more of the same letter than was in the actual word, and both of them lit up instead of just one. It came up multiple times even after I thought I fixed it. Several possible instances could occur. One letter might light yellow and another green, or it could be green and then yellow, or both yellow, or if there were 3 of the same letter my previous patch wouldn't work. Some cases are shown below of how it looks after it's fixed, but each of these cases gave me problems with the above, along with many more arrangements not displayed."
   ]
  },
  {
   "cell_type": "code",
   "execution_count": 14,
   "id": "2152f5b6",
   "metadata": {},
   "outputs": [
    {
     "name": "stdout",
     "output_type": "stream",
     "text": [
      "S T \u001b[33mA\u001b[30m R K\n",
      "T R \u001b[33mA\u001b[30m I N\n",
      "B \u001b[33mL\u001b[30m \u001b[33mA\u001b[30m S T\n",
      "\u001b[32mP\u001b[30m \u001b[33mL\u001b[30m \u001b[33mA\u001b[30m T E\n",
      "\u001b[32mP\u001b[30m O P P \u001b[33mY\u001b[30m\n",
      "\u001b[32mP\u001b[30m \u001b[32mH\u001b[30m \u001b[32mY\u001b[30m \u001b[32mL\u001b[30m \u001b[32mA\u001b[30m\n",
      "\n",
      "Q W \u001b[37mE\u001b[30m \u001b[37m\u001b[37mR\u001b[30m\u001b[30m \u001b[37m\u001b[37m\u001b[37m\u001b[37mT\u001b[30m\u001b[30m\u001b[30m\u001b[30m \u001b[33m\u001b[32mY\u001b[30m\u001b[30m U \u001b[37mI\u001b[30m \u001b[37mO\u001b[30m \u001b[32m\u001b[32m\u001b[33m\u001b[33m\u001b[32mP\u001b[30m\u001b[30m\u001b[30m\u001b[30m\u001b[30m \n",
      " \u001b[33m\u001b[33m\u001b[33m\u001b[33m\u001b[32mA\u001b[30m\u001b[30m\u001b[30m\u001b[30m\u001b[30m \u001b[37m\u001b[37mS\u001b[30m\u001b[30m D F G \u001b[32mH\u001b[30m J \u001b[37mK\u001b[30m \u001b[33m\u001b[33m\u001b[32mL\u001b[30m\u001b[30m\u001b[30m \n",
      "  Z X C V \u001b[37mB\u001b[30m \u001b[37mN\u001b[30m M\n",
      "You solved the Wordle in 6 tries!\n"
     ]
    },
    {
     "data": {
      "text/plain": [
       "<wordle.Wordle at 0x7fa06a8aed60>"
      ]
     },
     "execution_count": 14,
     "metadata": {},
     "output_type": "execute_result"
    }
   ],
   "source": [
    "# 3 P's, 2 incorrect after 1 correct.\n",
    "mock_new_game('Phyla', 'stark', 'train', 'blast', 'plate', 'poppy', 'phyla')"
   ]
  },
  {
   "cell_type": "code",
   "execution_count": 15,
   "id": "dc858eca",
   "metadata": {},
   "outputs": [
    {
     "name": "stdout",
     "output_type": "stream",
     "text": [
      "S T \u001b[33mA\u001b[30m R K\n",
      "T R \u001b[33mA\u001b[30m I N\n",
      "B \u001b[33mL\u001b[30m \u001b[33mA\u001b[30m S T\n",
      "\u001b[32mP\u001b[30m \u001b[33mL\u001b[30m \u001b[33mA\u001b[30m T E\n",
      "\u001b[32mP\u001b[30m I P E R\n",
      "\u001b[32mP\u001b[30m \u001b[32mH\u001b[30m \u001b[32mY\u001b[30m \u001b[32mL\u001b[30m \u001b[32mA\u001b[30m\n",
      "\n",
      "Q W \u001b[37m\u001b[37mE\u001b[30m\u001b[30m \u001b[37m\u001b[37m\u001b[37mR\u001b[30m\u001b[30m\u001b[30m \u001b[37m\u001b[37m\u001b[37m\u001b[37mT\u001b[30m\u001b[30m\u001b[30m\u001b[30m \u001b[32mY\u001b[30m U \u001b[37m\u001b[37mI\u001b[30m\u001b[30m O \u001b[32m\u001b[32m\u001b[33m\u001b[32mP\u001b[30m\u001b[30m\u001b[30m\u001b[30m \n",
      " \u001b[33m\u001b[33m\u001b[33m\u001b[33m\u001b[32mA\u001b[30m\u001b[30m\u001b[30m\u001b[30m\u001b[30m \u001b[37m\u001b[37mS\u001b[30m\u001b[30m D F G \u001b[32mH\u001b[30m J \u001b[37mK\u001b[30m \u001b[33m\u001b[33m\u001b[32mL\u001b[30m\u001b[30m\u001b[30m \n",
      "  Z X C V \u001b[37mB\u001b[30m \u001b[37mN\u001b[30m M\n",
      "You solved the Wordle in 6 tries!\n"
     ]
    },
    {
     "data": {
      "text/plain": [
       "<wordle.Wordle at 0x7fa06a8aed60>"
      ]
     },
     "execution_count": 15,
     "metadata": {},
     "output_type": "execute_result"
    }
   ],
   "source": [
    "# 2 P's, 1 incorrect after 1 correct.\n",
    "mock_new_game('Phyla', 'stark', 'train', 'blast', 'plate', 'piper', 'phyla')"
   ]
  },
  {
   "cell_type": "code",
   "execution_count": 16,
   "id": "b2c623af",
   "metadata": {},
   "outputs": [
    {
     "name": "stdout",
     "output_type": "stream",
     "text": [
      "\u001b[32mS\u001b[30m T A \u001b[32mR\u001b[30m K\n",
      "T \u001b[33mR\u001b[30m A I N\n",
      "B L A \u001b[33mS\u001b[30m T\n",
      "P L A T \u001b[32mE\u001b[30m\n",
      "B \u001b[33mR\u001b[30m E V \u001b[32mE\u001b[30m\n",
      "\u001b[32mS\u001b[30m \u001b[32mH\u001b[30m \u001b[32mO\u001b[30m \u001b[32mR\u001b[30m \u001b[32mE\u001b[30m\n",
      "\n",
      "Q W \u001b[32m\u001b[33m\u001b[32m\u001b[32mE\u001b[30m\u001b[30m\u001b[30m\u001b[30m \u001b[32m\u001b[33m\u001b[33m\u001b[32mR\u001b[30m\u001b[30m\u001b[30m\u001b[30m \u001b[37m\u001b[37m\u001b[37m\u001b[37mT\u001b[30m\u001b[30m\u001b[30m\u001b[30m Y U \u001b[37mI\u001b[30m \u001b[32mO\u001b[30m \u001b[37mP\u001b[30m \n",
      " \u001b[37m\u001b[37m\u001b[37m\u001b[37mA\u001b[30m\u001b[30m\u001b[30m\u001b[30m \u001b[32m\u001b[33m\u001b[32mS\u001b[30m\u001b[30m\u001b[30m D F G \u001b[32mH\u001b[30m J \u001b[37mK\u001b[30m \u001b[37m\u001b[37mL\u001b[30m\u001b[30m \n",
      "  Z X C \u001b[37mV\u001b[30m \u001b[37m\u001b[37mB\u001b[30m\u001b[30m \u001b[37mN\u001b[30m M\n",
      "You solved the Wordle in 6 tries!\n"
     ]
    },
    {
     "data": {
      "text/plain": [
       "<wordle.Wordle at 0x7fa06a8aed60>"
      ]
     },
     "execution_count": 16,
     "metadata": {},
     "output_type": "execute_result"
    }
   ],
   "source": [
    "# 2 E's, 1 incorrect before 1 correct\n",
    "mock_new_game('shore', 'stark', 'train', 'blast', 'plate','breve', 'shore')"
   ]
  },
  {
   "cell_type": "markdown",
   "id": "33fea2ba",
   "metadata": {},
   "source": [
    "\n"
   ]
  },
  {
   "cell_type": "markdown",
   "id": "baa0457d",
   "metadata": {},
   "source": [
    "There are two other class methods in my __Wordle__. _summary( )_ and _clear_statistics( )_. _summary( )_ will, just like actual wordle, display a graph reflecting the data on how many tries it took you to complete the wordle. It also prints various statistics like your win rate or your current winning streak. _clear_statistics( )_ will clear the current summary, and reset all collected data on summary statistics."
   ]
  },
  {
   "cell_type": "code",
   "execution_count": 18,
   "id": "571a5ebf",
   "metadata": {},
   "outputs": [
    {
     "name": "stdout",
     "output_type": "stream",
     "text": [
      "Played:\t\t4\n",
      "Win percent:\t100%\n",
      "Current streak:\t4\n",
      "Best streak:\t4\n"
     ]
    },
    {
     "data": {
      "image/png": "[encoded data removed]",
      "text/plain": [
       "<Figure size 432x288 with 1 Axes>"
      ]
     },
     "metadata": {
      "needs_background": "light"
     },
     "output_type": "display_data"
    }
   ],
   "source": [
    "game.summary()"
   ]
  },
  {
   "cell_type": "code",
   "execution_count": 21,
   "id": "3c03e12b",
   "metadata": {},
   "outputs": [],
   "source": [
    "game.clear_statistics()"
   ]
  },
  {
   "cell_type": "code",
   "execution_count": 22,
   "id": "b286a834",
   "metadata": {},
   "outputs": [
    {
     "name": "stdout",
     "output_type": "stream",
     "text": [
      "There are no statistics to print.\n"
     ]
    }
   ],
   "source": [
    "# Let's run summary() again\n",
    "game.summary()"
   ]
  },
  {
   "cell_type": "code",
   "execution_count": 23,
   "id": "06662116",
   "metadata": {},
   "outputs": [
    {
     "name": "stdout",
     "output_type": "stream",
     "text": [
      "\u001b[1m============================= test session starts ==============================\u001b[0m\n",
      "platform linux -- Python 3.9.5, pytest-7.4.2, pluggy-1.3.0\n",
      "rootdir: /home/jtakesuye/Final_Project\n",
      "plugins: anyio-3.2.1\n",
      "collected 3 items                                                              \u001b[0m\u001b[1m\n",
      "\n",
      "test_wordle.py \u001b[32m.\u001b[0m\u001b[32m.\u001b[0m\u001b[32m.\u001b[0m\u001b[32m                                                       [100%]\u001b[0m\n",
      "\n",
      "\u001b[32m============================== \u001b[32m\u001b[1m3 passed\u001b[0m\u001b[32m in 0.77s\u001b[0m\u001b[32m ===============================\u001b[0m\n"
     ]
    }
   ],
   "source": [
    "# My tests to make sure all the code runs\n",
    "!pytest test_wordle.py"
   ]
  },
  {
   "cell_type": "markdown",
   "id": "a38aa376",
   "metadata": {},
   "source": [
    "### Now it's your turn! I highly recommend running the code yourself to see what playing it is like. I promise it's more fun than just reading it.\n",
    "\n",
    "Please note: I believe that due to the code's nature of a continous loop and inputs, sometimes when you input an answer it will exit you out of the cell and keep running, to which you just need to interrupt it and rerun the cell. Unfortunately a new game will be created so the word will be different if this happens."
   ]
  },
  {
   "cell_type": "code",
   "execution_count": 28,
   "id": "7b33005f",
   "metadata": {},
   "outputs": [],
   "source": [
    "# Uncomment the below code out.\n",
    "# graders_wordle = Wordle()\n",
    "# graders_wordle.new_game()"
   ]
  },
  {
   "cell_type": "markdown",
   "id": "32ba5934",
   "metadata": {},
   "source": [
    "Ultimately, I worked very hard on this code and I believe that I should earn the extra credit for going above and beyond what was expected of me. I took it upon myself to build all the code for this from scratch (I didn't search up how to do it online), and went further than what I believe would have gotten me a good grade. \n",
    "\n",
    "I used a custom word bank containing 5000+ possible words to choose from and also confirm the users' word is real. I included a displayed keyboard to let the player know which letters worked and didn't work. I made my wordle in likeness of the real thing, with statistcs and graphs to show you how well you've played and your records. I used modules and techniques that weren't taught in the course, like using colorama to print in color and manipulating DataFrames for statistics. I even learned how to mock input multiple answers. This was especially difficult, and yet I used it to ensure my test file was 100% accurate and made it possible to simulate games as I've shown you."
   ]
  }
 ],
 "metadata": {
  "kernelspec": {
   "display_name": "Python 3 (ipykernel)",
   "language": "python",
   "name": "python3"
  },
  "language_info": {
   "codemirror_mode": {
    "name": "ipython",
    "version": 3
   },
   "file_extension": ".py",
   "mimetype": "text/x-python",
   "name": "python",
   "nbconvert_exporter": "python",
   "pygments_lexer": "ipython3",
   "version": "3.9.5"
  }
 },
 "nbformat": 4,
 "nbformat_minor": 5
}
